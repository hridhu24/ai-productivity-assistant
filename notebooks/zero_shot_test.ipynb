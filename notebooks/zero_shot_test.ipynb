{
 "cells": [
  {
   "cell_type": "code",
   "execution_count": 5,
   "id": "b2d2bfe6",
   "metadata": {},
   "outputs": [
    {
     "name": "stderr",
     "output_type": "stream",
     "text": [
      "Device set to use cpu\n"
     ]
    },
    {
     "name": "stdout",
     "output_type": "stream",
     "text": [
      "Task: Pay electricity bill\n",
      "Predicted category: Study (score: 0.31)\n",
      "Task: Submit project report\n",
      "Predicted category: Study (score: 0.50)\n",
      "Task: Buy groceries\n",
      "Predicted category: Personal (score: 0.44)\n",
      "Task: Finish machine learning assignment\n",
      "Predicted category: Work (score: 0.58)\n",
      "Task: Prepare presentation for meeting\n",
      "Predicted category: Work (score: 0.71)\n",
      "Task: Call bank customer care\n",
      "Predicted category: Personal (score: 0.41)\n",
      "Task: Go for evening walk\n",
      "Predicted category: Personal (score: 0.79)\n",
      "Task: Revise DBMS notes\n",
      "Predicted category: Work (score: 0.76)\n",
      "Task: Send monthly rent\n",
      "Predicted category: Work (score: 0.36)\n",
      "Task: Update project tracker\n",
      "Predicted category: Work (score: 0.48)\n"
     ]
    }
   ],
   "source": [
    "from transformers import pipeline\n",
    "import pandas as pd\n",
    "\n",
    "# Load classifier (TensorFlow backend will be used automatically)\n",
    "classifier = pipeline(\"zero-shot-classification\", model=\"facebook/bart-large-mnli\", framework=\"pt\")\n",
    "\n",
    "categories = [\"Work\", \"Study\", \"Personal\", \"Finance\"]\n",
    "\n",
    "df = pd.read_csv(\"../data/task.csv\")\n",
    "\n",
    "for i, row in df.iterrows():\n",
    "    task = row['task']\n",
    "    result = classifier(task, candidate_labels=categories)\n",
    "    print(f\"Task: {task}\")\n",
    "    print(f\"Predicted category: {result['labels'][0]} (score: {result['scores'][0]:.2f})\")\n",
    "    if i >= 9:\n",
    "        break\n"
   ]
  },
  {
   "cell_type": "code",
   "execution_count": 6,
   "id": "90786c20",
   "metadata": {},
   "outputs": [
    {
     "name": "stdout",
     "output_type": "stream",
     "text": [
      "Task: Pay electricity bill\n",
      "Predicted category: Study (score: 0.31)\n",
      "----------------------------------------\n",
      "Task: Submit project report\n",
      "Predicted category: Study (score: 0.50)\n",
      "----------------------------------------\n",
      "Task: Buy groceries\n",
      "Predicted category: Personal (score: 0.44)\n",
      "----------------------------------------\n",
      "Task: Finish machine learning assignment\n",
      "Predicted category: Work (score: 0.58)\n",
      "----------------------------------------\n",
      "Task: Prepare presentation for meeting\n",
      "Predicted category: Work (score: 0.71)\n",
      "----------------------------------------\n",
      "Task: Call bank customer care\n",
      "Predicted category: Personal (score: 0.41)\n",
      "----------------------------------------\n",
      "Task: Go for evening walk\n",
      "Predicted category: Personal (score: 0.79)\n",
      "----------------------------------------\n",
      "Task: Revise DBMS notes\n",
      "Predicted category: Work (score: 0.76)\n",
      "----------------------------------------\n",
      "Task: Send monthly rent\n",
      "Predicted category: Work (score: 0.36)\n",
      "----------------------------------------\n",
      "Task: Update project tracker\n",
      "Predicted category: Work (score: 0.48)\n",
      "----------------------------------------\n"
     ]
    }
   ],
   "source": [
    "for i, row in df.iterrows():\n",
    "    task = row['task']\n",
    "    result = classifier(task, candidate_labels=categories)\n",
    "    print(f\"Task: {task}\")\n",
    "    print(f\"Predicted category: {result['labels'][0]} (score: {result['scores'][0]:.2f})\")\n",
    "    print(\"-\"*40)\n",
    "    if i >= 9:  # just test first 10 tasks for speed\n",
    "        break\n"
   ]
  },
  {
   "cell_type": "code",
   "execution_count": 7,
   "id": "0d6563b8",
   "metadata": {},
   "outputs": [
    {
     "name": "stdout",
     "output_type": "stream",
     "text": [
      "Predictions saved to tasks_with_predictions.csv\n"
     ]
    }
   ],
   "source": [
    "predictions = []\n",
    "for task in df['task']:\n",
    "    result = classifier(task, candidate_labels=categories)\n",
    "    predictions.append(result['labels'][0])\n",
    "\n",
    "df['predicted_category'] = predictions\n",
    "df.to_csv(\"../data/tasks_with_predictions.csv\", index=False)\n",
    "print(\"Predictions saved to tasks_with_predictions.csv\")\n"
   ]
  }
 ],
 "metadata": {
  "kernelspec": {
   "display_name": "Python 3",
   "language": "python",
   "name": "python3"
  },
  "language_info": {
   "codemirror_mode": {
    "name": "ipython",
    "version": 3
   },
   "file_extension": ".py",
   "mimetype": "text/x-python",
   "name": "python",
   "nbconvert_exporter": "python",
   "pygments_lexer": "ipython3",
   "version": "3.11.9"
  }
 },
 "nbformat": 4,
 "nbformat_minor": 5
}
